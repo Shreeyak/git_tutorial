{
  "nbformat": 4,
  "nbformat_minor": 0,
  "metadata": {
    "colab": {
      "name": "git.ipynb",
      "provenance": [],
      "authorship_tag": "ABX9TyNEy+oLUGtftLiWWuAOWqGd",
      "include_colab_link": true
    },
    "kernelspec": {
      "name": "python3",
      "display_name": "Python 3"
    },
    "language_info": {
      "name": "python"
    }
  },
  "cells": [
    {
      "cell_type": "markdown",
      "metadata": {
        "id": "view-in-github",
        "colab_type": "text"
      },
      "source": [
        "<a href=\"https://colab.research.google.com/github/Shreeyak/git_tutorial/blob/main/git.ipynb\" target=\"_parent\"><img src=\"https://colab.research.google.com/assets/colab-badge.svg\" alt=\"Open In Colab\"/></a>"
      ]
    },
    {
      "cell_type": "code",
      "execution_count": 2,
      "metadata": {
        "colab": {
          "base_uri": "https://localhost:8080/"
        },
        "id": "NcLsr0P3QLds",
        "outputId": "aff519b0-8e4e-427c-acfc-046dcb4627dd"
      },
      "outputs": [
        {
          "output_type": "stream",
          "name": "stdout",
          "text": [
            "Cloning into 'git_tutorial'...\n",
            "remote: Enumerating objects: 18, done.\u001b[K\n",
            "remote: Counting objects: 100% (18/18), done.\u001b[K\n",
            "remote: Compressing objects: 100% (11/11), done.\u001b[K\n",
            "remote: Total 18 (delta 4), reused 0 (delta 0), pack-reused 0\u001b[K\n",
            "Unpacking objects: 100% (18/18), done.\n",
            "README.md\n"
          ]
        }
      ],
      "source": [
        "# create access token here: https://github.com/settings/tokens\n",
        "! git clone https://github.com/Shreeyak/git_tutorial.git\n",
        "\n",
        "! ls git_tutorial/"
      ]
    },
    {
      "cell_type": "code",
      "source": [
        "% cd git_tutorial/"
      ],
      "metadata": {
        "colab": {
          "base_uri": "https://localhost:8080/"
        },
        "id": "4kbQ4NRfQ1F-",
        "outputId": "0ee76460-a49f-4936-9312-f5f436a1c4e0"
      },
      "execution_count": 3,
      "outputs": [
        {
          "output_type": "stream",
          "name": "stdout",
          "text": [
            "/content/open3d-crv\n"
          ]
        }
      ]
    },
    {
      "cell_type": "code",
      "source": [
        "! touch test.txt"
      ],
      "metadata": {
        "id": "2YJwyf0JQ31i"
      },
      "execution_count": 6,
      "outputs": []
    },
    {
      "cell_type": "code",
      "source": [
        "! ls"
      ],
      "metadata": {
        "colab": {
          "base_uri": "https://localhost:8080/"
        },
        "id": "8gRg5pqCQ8cy",
        "outputId": "47a009c5-6fb9-40ca-8398-bce6444fb9c0"
      },
      "execution_count": 7,
      "outputs": [
        {
          "output_type": "stream",
          "name": "stdout",
          "text": [
            "README.md  test.txt\n"
          ]
        }
      ]
    },
    {
      "cell_type": "code",
      "source": [
        "! git config --global user.email \"you@example.com\"\n",
        "! git config --global user.name \"Your Name\""
      ],
      "metadata": {
        "id": "V1Nb-y_N_GzM"
      },
      "execution_count": 11,
      "outputs": []
    },
    {
      "cell_type": "code",
      "source": [
        "! git add ."
      ],
      "metadata": {
        "id": "JMrSyUYmTusx"
      },
      "execution_count": 12,
      "outputs": []
    },
    {
      "cell_type": "code",
      "source": [
        "! git status"
      ],
      "metadata": {
        "colab": {
          "base_uri": "https://localhost:8080/"
        },
        "id": "4CVb97Kg_SWB",
        "outputId": "843d32f8-a408-44ff-a75e-3868fd612552"
      },
      "execution_count": 13,
      "outputs": [
        {
          "output_type": "stream",
          "name": "stdout",
          "text": [
            "On branch main\n",
            "Your branch is up to date with 'origin/main'.\n",
            "\n",
            "Changes to be committed:\n",
            "  (use \"git reset HEAD <file>...\" to unstage)\n",
            "\n",
            "\t\u001b[32mnew file:   test.txt\u001b[m\n",
            "\n"
          ]
        }
      ]
    },
    {
      "cell_type": "code",
      "source": [
        "! git commit -m \"added nonsense file\""
      ],
      "metadata": {
        "colab": {
          "base_uri": "https://localhost:8080/"
        },
        "id": "YrWTxaB0To5j",
        "outputId": "6e2592c3-eb4f-4bf1-a33d-2d9d1b89ec90"
      },
      "execution_count": 14,
      "outputs": [
        {
          "output_type": "stream",
          "name": "stdout",
          "text": [
            "[main 6c38a19] added nonsense file\n",
            " 1 file changed, 0 insertions(+), 0 deletions(-)\n",
            " create mode 100644 test.txt\n"
          ]
        }
      ]
    },
    {
      "cell_type": "code",
      "source": [
        "! git status"
      ],
      "metadata": {
        "colab": {
          "base_uri": "https://localhost:8080/"
        },
        "id": "3rRLap4i_W3z",
        "outputId": "72345aa9-7dc6-49cd-df9f-f6cacbeb4d78"
      },
      "execution_count": 15,
      "outputs": [
        {
          "output_type": "stream",
          "name": "stdout",
          "text": [
            "On branch main\n",
            "Your branch is ahead of 'origin/main' by 1 commit.\n",
            "  (use \"git push\" to publish your local commits)\n",
            "\n",
            "nothing to commit, working tree clean\n"
          ]
        }
      ]
    },
    {
      "cell_type": "code",
      "source": [
        "#! git push https://<token>@github.com/<User>/<repo>.git\n",
        "! git push https://4ww0Lyu8W@github.com/Shreeyak/open3d-crv"
      ],
      "metadata": {
        "outputId": "c423510e-088b-4d43-b737-a8338a605d31",
        "colab": {
          "base_uri": "https://localhost:8080/"
        },
        "id": "PM7FO1d1Tu3R"
      },
      "execution_count": 16,
      "outputs": [
        {
          "output_type": "stream",
          "name": "stdout",
          "text": [
            "Counting objects: 3, done.\n",
            "Delta compression using up to 2 threads.\n",
            "Compressing objects:  50% (1/2)   \rCompressing objects: 100% (2/2)   \rCompressing objects: 100% (2/2), done.\n",
            "Writing objects:  33% (1/3)   \rWriting objects:  66% (2/3)   \rWriting objects: 100% (3/3)   \rWriting objects: 100% (3/3), 278 bytes | 278.00 KiB/s, done.\n",
            "Total 3 (delta 0), reused 0 (delta 0)\n",
            "To https://github.com/Shreeyak/open3d-crv\n",
            "   5ffda54..6c38a19  main -> main\n"
          ]
        }
      ]
    },
    {
      "cell_type": "code",
      "source": [
        "! git status"
      ],
      "metadata": {
        "colab": {
          "base_uri": "https://localhost:8080/"
        },
        "outputId": "e6ac3ce7-308c-4629-b494-0b10b1ac899a",
        "id": "3axCshoWTw7V"
      },
      "execution_count": 17,
      "outputs": [
        {
          "output_type": "stream",
          "name": "stdout",
          "text": [
            "On branch main\n",
            "Your branch is ahead of 'origin/main' by 1 commit.\n",
            "  (use \"git push\" to publish your local commits)\n",
            "\n",
            "nothing to commit, working tree clean\n"
          ]
        }
      ]
    },
    {
      "cell_type": "code",
      "source": [
        "! git pull"
      ],
      "metadata": {
        "colab": {
          "base_uri": "https://localhost:8080/"
        },
        "outputId": "dd805d74-16f1-4287-f542-2ab00b0ac56a",
        "id": "07Mj5eWET12s"
      },
      "execution_count": 18,
      "outputs": [
        {
          "output_type": "stream",
          "name": "stdout",
          "text": [
            "From https://github.com/Shreeyak/open3d-crv\n",
            "   5ffda54..6c38a19  main       -> origin/main\n",
            "Already up to date.\n"
          ]
        }
      ]
    },
    {
      "cell_type": "code",
      "source": [
        "! git checkout -b \"feature_a\""
      ],
      "metadata": {
        "colab": {
          "base_uri": "https://localhost:8080/"
        },
        "outputId": "5282dc1a-3e61-4bf3-c27a-fc13d4db52c4",
        "id": "FT3Jpp0VT3HQ"
      },
      "execution_count": 19,
      "outputs": [
        {
          "output_type": "stream",
          "name": "stdout",
          "text": [
            "Switched to a new branch 'feature_a'\n"
          ]
        }
      ]
    },
    {
      "cell_type": "code",
      "source": [
        "! git status"
      ],
      "metadata": {
        "colab": {
          "base_uri": "https://localhost:8080/"
        },
        "outputId": "630f91de-3cce-4ffe-da7b-9b3dbd10afd5",
        "id": "bYDqc2ZKABDk"
      },
      "execution_count": 20,
      "outputs": [
        {
          "output_type": "stream",
          "name": "stdout",
          "text": [
            "On branch feature_a\n",
            "nothing to commit, working tree clean\n"
          ]
        }
      ]
    }
  ]
}
